{
 "cells": [
  {
   "cell_type": "code",
   "execution_count": 1,
   "metadata": {
    "id": "atw2Xac9I0xl"
   },
   "outputs": [],
   "source": [
    "import numpy as np\n",
    "import matplotlib.pyplot as plt\n",
    "import pandas as pd\n",
    "import seaborn as sns\n",
    "sns.set()"
   ]
  },
  {
   "cell_type": "code",
   "execution_count": 2,
   "metadata": {
    "colab": {
     "base_uri": "https://localhost:8080/",
     "height": 302
    },
    "id": "NPfi2q75I0xl",
    "outputId": "1f049900-3b13-433a-fa05-c439e3d9c2de"
   },
   "outputs": [
    {
     "data": {
      "text/html": [
       "<div>\n",
       "<style scoped>\n",
       "    .dataframe tbody tr th:only-of-type {\n",
       "        vertical-align: middle;\n",
       "    }\n",
       "\n",
       "    .dataframe tbody tr th {\n",
       "        vertical-align: top;\n",
       "    }\n",
       "\n",
       "    .dataframe thead th {\n",
       "        text-align: right;\n",
       "    }\n",
       "</style>\n",
       "<table border=\"1\" class=\"dataframe\">\n",
       "  <thead>\n",
       "    <tr style=\"text-align: right;\">\n",
       "      <th></th>\n",
       "      <th>CustomerId</th>\n",
       "      <th>Surname</th>\n",
       "      <th>CreditScore</th>\n",
       "      <th>Geography</th>\n",
       "      <th>Gender</th>\n",
       "      <th>Age</th>\n",
       "      <th>Tenure</th>\n",
       "      <th>Balance</th>\n",
       "      <th>NumOfProducts</th>\n",
       "      <th>HasCrCard</th>\n",
       "      <th>IsActiveMember</th>\n",
       "      <th>EstimatedSalary</th>\n",
       "      <th>Exited</th>\n",
       "    </tr>\n",
       "    <tr>\n",
       "      <th>RowNumber</th>\n",
       "      <th></th>\n",
       "      <th></th>\n",
       "      <th></th>\n",
       "      <th></th>\n",
       "      <th></th>\n",
       "      <th></th>\n",
       "      <th></th>\n",
       "      <th></th>\n",
       "      <th></th>\n",
       "      <th></th>\n",
       "      <th></th>\n",
       "      <th></th>\n",
       "      <th></th>\n",
       "    </tr>\n",
       "  </thead>\n",
       "  <tbody>\n",
       "    <tr>\n",
       "      <th>1</th>\n",
       "      <td>15634602</td>\n",
       "      <td>Hargrave</td>\n",
       "      <td>619</td>\n",
       "      <td>France</td>\n",
       "      <td>Female</td>\n",
       "      <td>42</td>\n",
       "      <td>2</td>\n",
       "      <td>0.00</td>\n",
       "      <td>1</td>\n",
       "      <td>1</td>\n",
       "      <td>1</td>\n",
       "      <td>101348.88</td>\n",
       "      <td>1</td>\n",
       "    </tr>\n",
       "    <tr>\n",
       "      <th>2</th>\n",
       "      <td>15647311</td>\n",
       "      <td>Hill</td>\n",
       "      <td>608</td>\n",
       "      <td>Spain</td>\n",
       "      <td>Female</td>\n",
       "      <td>41</td>\n",
       "      <td>1</td>\n",
       "      <td>83807.86</td>\n",
       "      <td>1</td>\n",
       "      <td>0</td>\n",
       "      <td>1</td>\n",
       "      <td>112542.58</td>\n",
       "      <td>0</td>\n",
       "    </tr>\n",
       "    <tr>\n",
       "      <th>3</th>\n",
       "      <td>15619304</td>\n",
       "      <td>Onio</td>\n",
       "      <td>502</td>\n",
       "      <td>France</td>\n",
       "      <td>Female</td>\n",
       "      <td>42</td>\n",
       "      <td>8</td>\n",
       "      <td>159660.80</td>\n",
       "      <td>3</td>\n",
       "      <td>1</td>\n",
       "      <td>0</td>\n",
       "      <td>113931.57</td>\n",
       "      <td>1</td>\n",
       "    </tr>\n",
       "    <tr>\n",
       "      <th>4</th>\n",
       "      <td>15701354</td>\n",
       "      <td>Boni</td>\n",
       "      <td>699</td>\n",
       "      <td>France</td>\n",
       "      <td>Female</td>\n",
       "      <td>39</td>\n",
       "      <td>1</td>\n",
       "      <td>0.00</td>\n",
       "      <td>2</td>\n",
       "      <td>0</td>\n",
       "      <td>0</td>\n",
       "      <td>93826.63</td>\n",
       "      <td>0</td>\n",
       "    </tr>\n",
       "    <tr>\n",
       "      <th>5</th>\n",
       "      <td>15737888</td>\n",
       "      <td>Mitchell</td>\n",
       "      <td>850</td>\n",
       "      <td>Spain</td>\n",
       "      <td>Female</td>\n",
       "      <td>43</td>\n",
       "      <td>2</td>\n",
       "      <td>125510.82</td>\n",
       "      <td>1</td>\n",
       "      <td>1</td>\n",
       "      <td>1</td>\n",
       "      <td>79084.10</td>\n",
       "      <td>0</td>\n",
       "    </tr>\n",
       "  </tbody>\n",
       "</table>\n",
       "</div>"
      ],
      "text/plain": [
       "           CustomerId   Surname  CreditScore Geography  Gender  Age  Tenure   \n",
       "RowNumber                                                                     \n",
       "1            15634602  Hargrave          619    France  Female   42       2  \\\n",
       "2            15647311      Hill          608     Spain  Female   41       1   \n",
       "3            15619304      Onio          502    France  Female   42       8   \n",
       "4            15701354      Boni          699    France  Female   39       1   \n",
       "5            15737888  Mitchell          850     Spain  Female   43       2   \n",
       "\n",
       "             Balance  NumOfProducts  HasCrCard  IsActiveMember   \n",
       "RowNumber                                                        \n",
       "1               0.00              1          1               1  \\\n",
       "2           83807.86              1          0               1   \n",
       "3          159660.80              3          1               0   \n",
       "4               0.00              2          0               0   \n",
       "5          125510.82              1          1               1   \n",
       "\n",
       "           EstimatedSalary  Exited  \n",
       "RowNumber                           \n",
       "1                101348.88       1  \n",
       "2                112542.58       0  \n",
       "3                113931.57       1  \n",
       "4                 93826.63       0  \n",
       "5                 79084.10       0  "
      ]
     },
     "execution_count": 2,
     "metadata": {},
     "output_type": "execute_result"
    }
   ],
   "source": [
    "dataset = pd.read_csv('Churn_Modelling.csv', index_col = 'RowNumber')\n",
    "dataset.head()\n"
   ]
  },
  {
   "cell_type": "code",
   "execution_count": 3,
   "metadata": {
    "colab": {
     "base_uri": "https://localhost:8080/"
    },
    "id": "jelFHwknI0xm",
    "outputId": "e8e8af69-44e3-4b72-84cf-e15d6b026a5f"
   },
   "outputs": [
    {
     "name": "stdout",
     "output_type": "stream",
     "text": [
      "['CreditScore', 'Geography', 'Gender', 'Age', 'Tenure', 'Balance', 'NumOfProducts', 'HasCrCard', 'IsActiveMember', 'EstimatedSalary']\n",
      "['Exited']\n"
     ]
    }
   ],
   "source": [
    "#Customer ID and Surname would not be relevant as features\n",
    "X_columns = dataset.columns.tolist()[2:12]\n",
    "Y_columns = dataset.columns.tolist()[-1:]\n",
    "print(X_columns)\n",
    "print(Y_columns)"
   ]
  },
  {
   "cell_type": "code",
   "execution_count": 4,
   "metadata": {
    "id": "_EnXaCYmI0xn"
   },
   "outputs": [],
   "source": [
    "X = dataset[X_columns].values \n",
    "Y = dataset[Y_columns].values"
   ]
  },
  {
   "cell_type": "code",
   "execution_count": 5,
   "metadata": {
    "id": "cjbVx3FRI0xn"
   },
   "outputs": [],
   "source": [
    "#We need to encode categorical variables such as geography and gender\n",
    "from sklearn.preprocessing import LabelEncoder\n",
    "X_column_transformer = LabelEncoder()\n",
    "X[:, 1] = X_column_transformer.fit_transform(X[:, 1])"
   ]
  },
  {
   "cell_type": "code",
   "execution_count": 6,
   "metadata": {
    "id": "tS02t4y9I0xn"
   },
   "outputs": [],
   "source": [
    "#Lets Encode gender now\n",
    "X[:, 2] = X_column_transformer.fit_transform(X[:, 2])"
   ]
  },
  {
   "cell_type": "markdown",
   "metadata": {
    "id": "DKwFc-HWI0xo"
   },
   "source": [
    "We are treating countries with ordinal values(0 < 1 < 2) but they are incomparable.\n",
    "To solve this we can use one hot encoding.\n",
    "We will perform some standardization "
   ]
  },
  {
   "cell_type": "code",
   "execution_count": 7,
   "metadata": {
    "id": "v-bI9UNiI0xo"
   },
   "outputs": [],
   "source": [
    "from sklearn.preprocessing import StandardScaler, OneHotEncoder\n",
    "from sklearn.compose import ColumnTransformer\n",
    "from sklearn.pipeline import Pipeline\n",
    "\n",
    "pipeline = Pipeline(\n",
    "    [\n",
    "        ('Categorizer', ColumnTransformer(\n",
    "            [\n",
    "                (\"Gender Label Encoder\", OneHotEncoder(categories = 'auto', drop = 'first'), [2]),\n",
    "                (\"Geography Label Encoder\", OneHotEncoder(categories = 'auto', drop = 'first'), [1])\n",
    "            ], \n",
    "            remainder = 'passthrough', n_jobs = 1)),\n",
    "        ('Normalizer', StandardScaler())\n",
    "    ]\n",
    ")"
   ]
  },
  {
   "cell_type": "code",
   "execution_count": 8,
   "metadata": {
    "id": "7_TO_-fQI0xp"
   },
   "outputs": [],
   "source": [
    "#Standardize the features\n",
    "X = pipeline.fit_transform(X)"
   ]
  },
  {
   "cell_type": "code",
   "execution_count": 9,
   "metadata": {
    "id": "OJ7VUetiI0xq"
   },
   "outputs": [],
   "source": [
    "#Spilt the data\n",
    "from sklearn.model_selection import train_test_split\n",
    "X_train, X_test, y_train, y_test = train_test_split(X, Y, test_size = 0.2, random_state = 0)"
   ]
  },
  {
   "cell_type": "code",
   "execution_count": 10,
   "metadata": {
    "id": "mX35INUFI0xr"
   },
   "outputs": [],
   "source": [
    "#Let us create the Neural Network\n",
    "from keras.models import Sequential\n",
    "from keras.layers import Dense, Dropout"
   ]
  },
  {
   "cell_type": "code",
   "execution_count": 11,
   "metadata": {
    "id": "VYIsyqOUI0xs"
   },
   "outputs": [],
   "source": [
    "#Initialize Artificial neural network\n",
    "classifier = Sequential()"
   ]
  },
  {
   "cell_type": "code",
   "execution_count": 12,
   "metadata": {
    "id": "i3nH8oOhJcp8"
   },
   "outputs": [],
   "source": [
    "#Add input layer and hidden layer\n",
    "classifier.add(Dense(6, activation = 'relu', input_shape = (X_train.shape[1], )))\n",
    "classifier.add(Dropout(rate = 0.1))"
   ]
  },
  {
   "cell_type": "code",
   "execution_count": 13,
   "metadata": {
    "id": "gULE3c-YPvsI"
   },
   "outputs": [],
   "source": [
    "#Add second layer\n",
    "classifier.add(Dense(6, activation = 'relu'))\n",
    "classifier.add(Dropout(rate = 0.1))"
   ]
  },
  {
   "cell_type": "code",
   "execution_count": 14,
   "metadata": {
    "id": "j_XpNLaSP9Qk"
   },
   "outputs": [],
   "source": [
    "#Add output layer\n",
    "classifier.add(Dense(1, activation = 'sigmoid'))"
   ]
  },
  {
   "cell_type": "code",
   "execution_count": 15,
   "metadata": {
    "colab": {
     "base_uri": "https://localhost:8080/"
    },
    "id": "5rodKUhIQUWH",
    "outputId": "a8dd63ea-6662-41f3-a43b-4f3f4567a06d"
   },
   "outputs": [
    {
     "name": "stdout",
     "output_type": "stream",
     "text": [
      "Model: \"sequential\"\n",
      "_________________________________________________________________\n",
      " Layer (type)                Output Shape              Param #   \n",
      "=================================================================\n",
      " dense (Dense)               (None, 6)                 72        \n",
      "                                                                 \n",
      " dropout (Dropout)           (None, 6)                 0         \n",
      "                                                                 \n",
      " dense_1 (Dense)             (None, 6)                 42        \n",
      "                                                                 \n",
      " dropout_1 (Dropout)         (None, 6)                 0         \n",
      "                                                                 \n",
      " dense_2 (Dense)             (None, 1)                 7         \n",
      "                                                                 \n",
      "=================================================================\n",
      "Total params: 121 (484.00 Byte)\n",
      "Trainable params: 121 (484.00 Byte)\n",
      "Non-trainable params: 0 (0.00 Byte)\n",
      "_________________________________________________________________\n"
     ]
    }
   ],
   "source": [
    "#Let us take a look at our network\n",
    "classifier.summary()"
   ]
  },
  {
   "cell_type": "code",
   "execution_count": 16,
   "metadata": {
    "id": "XfHGyyviSXed"
   },
   "outputs": [],
   "source": [
    "#Optimize the weights\n",
    "classifier.compile(optimizer = 'adam', loss = 'binary_crossentropy', metrics = ['accuracy'])"
   ]
  },
  {
   "cell_type": "code",
   "execution_count": 17,
   "metadata": {
    "colab": {
     "base_uri": "https://localhost:8080/"
    },
    "id": "7px7qzJQVhan",
    "outputId": "09d47fa7-684c-424c-f144-e86492bcfa24"
   },
   "outputs": [
    {
     "name": "stdout",
     "output_type": "stream",
     "text": [
      "Epoch 1/200\n",
      "225/225 - 3s - loss: 0.6562 - accuracy: 0.6378 - val_loss: 0.5585 - val_accuracy: 0.7950 - 3s/epoch - 11ms/step\n",
      "Epoch 2/200\n",
      "225/225 - 0s - loss: 0.5330 - accuracy: 0.7951 - val_loss: 0.5060 - val_accuracy: 0.7950 - 459ms/epoch - 2ms/step\n",
      "Epoch 3/200\n",
      "225/225 - 0s - loss: 0.5067 - accuracy: 0.7957 - val_loss: 0.4861 - val_accuracy: 0.7950 - 315ms/epoch - 1ms/step\n",
      "Epoch 4/200\n",
      "225/225 - 0s - loss: 0.4843 - accuracy: 0.7969 - val_loss: 0.4696 - val_accuracy: 0.7950 - 312ms/epoch - 1ms/step\n",
      "Epoch 5/200\n",
      "225/225 - 0s - loss: 0.4679 - accuracy: 0.8015 - val_loss: 0.4517 - val_accuracy: 0.7975 - 351ms/epoch - 2ms/step\n",
      "Epoch 6/200\n",
      "225/225 - 1s - loss: 0.4548 - accuracy: 0.8058 - val_loss: 0.4351 - val_accuracy: 0.7950 - 591ms/epoch - 3ms/step\n",
      "Epoch 7/200\n",
      "225/225 - 1s - loss: 0.4365 - accuracy: 0.8053 - val_loss: 0.4157 - val_accuracy: 0.7937 - 605ms/epoch - 3ms/step\n",
      "Epoch 8/200\n",
      "225/225 - 1s - loss: 0.4244 - accuracy: 0.8081 - val_loss: 0.3998 - val_accuracy: 0.7987 - 578ms/epoch - 3ms/step\n",
      "Epoch 9/200\n",
      "225/225 - 1s - loss: 0.4139 - accuracy: 0.8206 - val_loss: 0.3863 - val_accuracy: 0.8150 - 522ms/epoch - 2ms/step\n",
      "Epoch 10/200\n",
      "225/225 - 0s - loss: 0.4025 - accuracy: 0.8310 - val_loss: 0.3758 - val_accuracy: 0.8275 - 422ms/epoch - 2ms/step\n",
      "Epoch 11/200\n",
      "225/225 - 1s - loss: 0.3928 - accuracy: 0.8367 - val_loss: 0.3667 - val_accuracy: 0.8388 - 523ms/epoch - 2ms/step\n",
      "Epoch 12/200\n",
      "225/225 - 1s - loss: 0.3863 - accuracy: 0.8383 - val_loss: 0.3609 - val_accuracy: 0.8450 - 507ms/epoch - 2ms/step\n",
      "Epoch 13/200\n",
      "225/225 - 0s - loss: 0.3854 - accuracy: 0.8413 - val_loss: 0.3561 - val_accuracy: 0.8475 - 381ms/epoch - 2ms/step\n",
      "Epoch 14/200\n",
      "225/225 - 0s - loss: 0.3817 - accuracy: 0.8438 - val_loss: 0.3524 - val_accuracy: 0.8550 - 424ms/epoch - 2ms/step\n",
      "Epoch 15/200\n",
      "225/225 - 1s - loss: 0.3808 - accuracy: 0.8422 - val_loss: 0.3511 - val_accuracy: 0.8525 - 525ms/epoch - 2ms/step\n",
      "Epoch 16/200\n",
      "225/225 - 0s - loss: 0.3779 - accuracy: 0.8443 - val_loss: 0.3492 - val_accuracy: 0.8587 - 476ms/epoch - 2ms/step\n",
      "Epoch 17/200\n",
      "225/225 - 0s - loss: 0.3738 - accuracy: 0.8464 - val_loss: 0.3469 - val_accuracy: 0.8562 - 377ms/epoch - 2ms/step\n",
      "Epoch 18/200\n",
      "225/225 - 0s - loss: 0.3740 - accuracy: 0.8431 - val_loss: 0.3460 - val_accuracy: 0.8587 - 326ms/epoch - 1ms/step\n",
      "Epoch 19/200\n",
      "225/225 - 0s - loss: 0.3749 - accuracy: 0.8418 - val_loss: 0.3467 - val_accuracy: 0.8587 - 340ms/epoch - 2ms/step\n",
      "Epoch 20/200\n",
      "225/225 - 0s - loss: 0.3727 - accuracy: 0.8450 - val_loss: 0.3458 - val_accuracy: 0.8612 - 325ms/epoch - 1ms/step\n",
      "Epoch 21/200\n",
      "225/225 - 0s - loss: 0.3720 - accuracy: 0.8465 - val_loss: 0.3446 - val_accuracy: 0.8612 - 332ms/epoch - 1ms/step\n",
      "Epoch 22/200\n",
      "225/225 - 0s - loss: 0.3715 - accuracy: 0.8449 - val_loss: 0.3437 - val_accuracy: 0.8650 - 349ms/epoch - 2ms/step\n",
      "Epoch 23/200\n",
      "225/225 - 1s - loss: 0.3715 - accuracy: 0.8410 - val_loss: 0.3440 - val_accuracy: 0.8625 - 545ms/epoch - 2ms/step\n",
      "Epoch 24/200\n",
      "225/225 - 0s - loss: 0.3704 - accuracy: 0.8425 - val_loss: 0.3433 - val_accuracy: 0.8662 - 440ms/epoch - 2ms/step\n",
      "Epoch 25/200\n",
      "225/225 - 0s - loss: 0.3731 - accuracy: 0.8429 - val_loss: 0.3444 - val_accuracy: 0.8637 - 312ms/epoch - 1ms/step\n",
      "Epoch 26/200\n",
      "225/225 - 0s - loss: 0.3707 - accuracy: 0.8432 - val_loss: 0.3432 - val_accuracy: 0.8612 - 320ms/epoch - 1ms/step\n",
      "Epoch 27/200\n",
      "225/225 - 0s - loss: 0.3720 - accuracy: 0.8446 - val_loss: 0.3434 - val_accuracy: 0.8587 - 310ms/epoch - 1ms/step\n",
      "Epoch 28/200\n",
      "225/225 - 0s - loss: 0.3722 - accuracy: 0.8443 - val_loss: 0.3428 - val_accuracy: 0.8600 - 313ms/epoch - 1ms/step\n",
      "Epoch 29/200\n",
      "225/225 - 0s - loss: 0.3668 - accuracy: 0.8446 - val_loss: 0.3423 - val_accuracy: 0.8625 - 313ms/epoch - 1ms/step\n",
      "Epoch 30/200\n",
      "225/225 - 0s - loss: 0.3709 - accuracy: 0.8451 - val_loss: 0.3423 - val_accuracy: 0.8612 - 317ms/epoch - 1ms/step\n",
      "Epoch 31/200\n",
      "225/225 - 1s - loss: 0.3687 - accuracy: 0.8460 - val_loss: 0.3414 - val_accuracy: 0.8600 - 584ms/epoch - 3ms/step\n",
      "Epoch 32/200\n",
      "225/225 - 1s - loss: 0.3699 - accuracy: 0.8456 - val_loss: 0.3416 - val_accuracy: 0.8612 - 596ms/epoch - 3ms/step\n",
      "Epoch 33/200\n",
      "225/225 - 0s - loss: 0.3696 - accuracy: 0.8444 - val_loss: 0.3421 - val_accuracy: 0.8612 - 420ms/epoch - 2ms/step\n",
      "Epoch 34/200\n",
      "225/225 - 0s - loss: 0.3643 - accuracy: 0.8487 - val_loss: 0.3408 - val_accuracy: 0.8600 - 305ms/epoch - 1ms/step\n",
      "Epoch 35/200\n",
      "225/225 - 0s - loss: 0.3691 - accuracy: 0.8415 - val_loss: 0.3416 - val_accuracy: 0.8575 - 304ms/epoch - 1ms/step\n",
      "Epoch 36/200\n",
      "225/225 - 0s - loss: 0.3687 - accuracy: 0.8449 - val_loss: 0.3424 - val_accuracy: 0.8587 - 319ms/epoch - 1ms/step\n",
      "Epoch 37/200\n",
      "225/225 - 0s - loss: 0.3691 - accuracy: 0.8440 - val_loss: 0.3409 - val_accuracy: 0.8600 - 328ms/epoch - 1ms/step\n",
      "Epoch 38/200\n",
      "225/225 - 0s - loss: 0.3664 - accuracy: 0.8454 - val_loss: 0.3411 - val_accuracy: 0.8600 - 334ms/epoch - 1ms/step\n",
      "Epoch 39/200\n",
      "225/225 - 0s - loss: 0.3680 - accuracy: 0.8450 - val_loss: 0.3394 - val_accuracy: 0.8625 - 322ms/epoch - 1ms/step\n",
      "Epoch 40/200\n",
      "225/225 - 0s - loss: 0.3665 - accuracy: 0.8467 - val_loss: 0.3400 - val_accuracy: 0.8650 - 325ms/epoch - 1ms/step\n",
      "Epoch 41/200\n",
      "225/225 - 0s - loss: 0.3684 - accuracy: 0.8436 - val_loss: 0.3391 - val_accuracy: 0.8650 - 340ms/epoch - 2ms/step\n",
      "Epoch 42/200\n",
      "225/225 - 1s - loss: 0.3696 - accuracy: 0.8411 - val_loss: 0.3408 - val_accuracy: 0.8637 - 559ms/epoch - 2ms/step\n",
      "Epoch 43/200\n",
      "225/225 - 1s - loss: 0.3640 - accuracy: 0.8458 - val_loss: 0.3401 - val_accuracy: 0.8675 - 556ms/epoch - 2ms/step\n",
      "Epoch 44/200\n",
      "225/225 - 0s - loss: 0.3635 - accuracy: 0.8474 - val_loss: 0.3389 - val_accuracy: 0.8687 - 350ms/epoch - 2ms/step\n",
      "Epoch 45/200\n",
      "225/225 - 1s - loss: 0.3636 - accuracy: 0.8440 - val_loss: 0.3403 - val_accuracy: 0.8650 - 518ms/epoch - 2ms/step\n",
      "Epoch 46/200\n",
      "225/225 - 0s - loss: 0.3659 - accuracy: 0.8485 - val_loss: 0.3384 - val_accuracy: 0.8662 - 482ms/epoch - 2ms/step\n",
      "Epoch 47/200\n",
      "225/225 - 0s - loss: 0.3634 - accuracy: 0.8451 - val_loss: 0.3374 - val_accuracy: 0.8712 - 487ms/epoch - 2ms/step\n",
      "Epoch 48/200\n",
      "225/225 - 0s - loss: 0.3616 - accuracy: 0.8454 - val_loss: 0.3373 - val_accuracy: 0.8725 - 472ms/epoch - 2ms/step\n",
      "Epoch 49/200\n",
      "225/225 - 0s - loss: 0.3640 - accuracy: 0.8475 - val_loss: 0.3380 - val_accuracy: 0.8687 - 435ms/epoch - 2ms/step\n",
      "Epoch 50/200\n",
      "225/225 - 0s - loss: 0.3658 - accuracy: 0.8485 - val_loss: 0.3374 - val_accuracy: 0.8700 - 300ms/epoch - 1ms/step\n",
      "Epoch 51/200\n",
      "225/225 - 0s - loss: 0.3638 - accuracy: 0.8469 - val_loss: 0.3377 - val_accuracy: 0.8675 - 298ms/epoch - 1ms/step\n",
      "Epoch 52/200\n",
      "225/225 - 0s - loss: 0.3645 - accuracy: 0.8462 - val_loss: 0.3374 - val_accuracy: 0.8675 - 314ms/epoch - 1ms/step\n",
      "Epoch 53/200\n",
      "225/225 - 0s - loss: 0.3629 - accuracy: 0.8481 - val_loss: 0.3370 - val_accuracy: 0.8737 - 313ms/epoch - 1ms/step\n",
      "Epoch 54/200\n",
      "225/225 - 1s - loss: 0.3636 - accuracy: 0.8458 - val_loss: 0.3371 - val_accuracy: 0.8700 - 518ms/epoch - 2ms/step\n",
      "Epoch 55/200\n",
      "225/225 - 0s - loss: 0.3665 - accuracy: 0.8462 - val_loss: 0.3364 - val_accuracy: 0.8675 - 323ms/epoch - 1ms/step\n",
      "Epoch 56/200\n",
      "225/225 - 0s - loss: 0.3604 - accuracy: 0.8458 - val_loss: 0.3365 - val_accuracy: 0.8662 - 298ms/epoch - 1ms/step\n",
      "Epoch 57/200\n",
      "225/225 - 0s - loss: 0.3604 - accuracy: 0.8468 - val_loss: 0.3352 - val_accuracy: 0.8712 - 310ms/epoch - 1ms/step\n",
      "Epoch 58/200\n",
      "225/225 - 0s - loss: 0.3658 - accuracy: 0.8474 - val_loss: 0.3367 - val_accuracy: 0.8712 - 303ms/epoch - 1ms/step\n",
      "Epoch 59/200\n",
      "225/225 - 0s - loss: 0.3598 - accuracy: 0.8475 - val_loss: 0.3356 - val_accuracy: 0.8712 - 336ms/epoch - 1ms/step\n",
      "Epoch 60/200\n",
      "225/225 - 1s - loss: 0.3616 - accuracy: 0.8478 - val_loss: 0.3355 - val_accuracy: 0.8712 - 530ms/epoch - 2ms/step\n",
      "Epoch 61/200\n",
      "225/225 - 0s - loss: 0.3644 - accuracy: 0.8471 - val_loss: 0.3356 - val_accuracy: 0.8725 - 382ms/epoch - 2ms/step\n",
      "Epoch 62/200\n",
      "225/225 - 0s - loss: 0.3621 - accuracy: 0.8458 - val_loss: 0.3362 - val_accuracy: 0.8687 - 393ms/epoch - 2ms/step\n",
      "Epoch 63/200\n",
      "225/225 - 0s - loss: 0.3626 - accuracy: 0.8479 - val_loss: 0.3366 - val_accuracy: 0.8662 - 302ms/epoch - 1ms/step\n",
      "Epoch 64/200\n",
      "225/225 - 0s - loss: 0.3639 - accuracy: 0.8439 - val_loss: 0.3363 - val_accuracy: 0.8675 - 310ms/epoch - 1ms/step\n",
      "Epoch 65/200\n",
      "225/225 - 0s - loss: 0.3600 - accuracy: 0.8510 - val_loss: 0.3352 - val_accuracy: 0.8763 - 308ms/epoch - 1ms/step\n",
      "Epoch 66/200\n",
      "225/225 - 0s - loss: 0.3679 - accuracy: 0.8467 - val_loss: 0.3363 - val_accuracy: 0.8725 - 306ms/epoch - 1ms/step\n",
      "Epoch 67/200\n",
      "225/225 - 0s - loss: 0.3630 - accuracy: 0.8456 - val_loss: 0.3363 - val_accuracy: 0.8725 - 306ms/epoch - 1ms/step\n",
      "Epoch 68/200\n",
      "225/225 - 0s - loss: 0.3639 - accuracy: 0.8439 - val_loss: 0.3357 - val_accuracy: 0.8737 - 298ms/epoch - 1ms/step\n",
      "Epoch 69/200\n",
      "225/225 - 0s - loss: 0.3618 - accuracy: 0.8478 - val_loss: 0.3360 - val_accuracy: 0.8725 - 298ms/epoch - 1ms/step\n",
      "Epoch 70/200\n",
      "225/225 - 0s - loss: 0.3605 - accuracy: 0.8474 - val_loss: 0.3347 - val_accuracy: 0.8763 - 314ms/epoch - 1ms/step\n",
      "Epoch 71/200\n",
      "225/225 - 0s - loss: 0.3590 - accuracy: 0.8496 - val_loss: 0.3339 - val_accuracy: 0.8712 - 314ms/epoch - 1ms/step\n",
      "Epoch 72/200\n",
      "225/225 - 0s - loss: 0.3624 - accuracy: 0.8439 - val_loss: 0.3343 - val_accuracy: 0.8712 - 298ms/epoch - 1ms/step\n",
      "Epoch 73/200\n",
      "225/225 - 0s - loss: 0.3612 - accuracy: 0.8511 - val_loss: 0.3343 - val_accuracy: 0.8712 - 314ms/epoch - 1ms/step\n",
      "Epoch 74/200\n",
      "225/225 - 0s - loss: 0.3610 - accuracy: 0.8469 - val_loss: 0.3333 - val_accuracy: 0.8775 - 298ms/epoch - 1ms/step\n",
      "Epoch 75/200\n",
      "225/225 - 0s - loss: 0.3612 - accuracy: 0.8478 - val_loss: 0.3340 - val_accuracy: 0.8737 - 314ms/epoch - 1ms/step\n",
      "Epoch 76/200\n",
      "225/225 - 0s - loss: 0.3621 - accuracy: 0.8500 - val_loss: 0.3343 - val_accuracy: 0.8737 - 298ms/epoch - 1ms/step\n",
      "Epoch 77/200\n",
      "225/225 - 0s - loss: 0.3601 - accuracy: 0.8490 - val_loss: 0.3327 - val_accuracy: 0.8763 - 314ms/epoch - 1ms/step\n",
      "Epoch 78/200\n",
      "225/225 - 0s - loss: 0.3613 - accuracy: 0.8483 - val_loss: 0.3332 - val_accuracy: 0.8763 - 298ms/epoch - 1ms/step\n",
      "Epoch 79/200\n",
      "225/225 - 0s - loss: 0.3598 - accuracy: 0.8476 - val_loss: 0.3331 - val_accuracy: 0.8763 - 314ms/epoch - 1ms/step\n",
      "Epoch 80/200\n",
      "225/225 - 0s - loss: 0.3570 - accuracy: 0.8506 - val_loss: 0.3338 - val_accuracy: 0.8737 - 298ms/epoch - 1ms/step\n",
      "Epoch 81/200\n",
      "225/225 - 0s - loss: 0.3594 - accuracy: 0.8476 - val_loss: 0.3336 - val_accuracy: 0.8775 - 314ms/epoch - 1ms/step\n",
      "Epoch 82/200\n",
      "225/225 - 0s - loss: 0.3613 - accuracy: 0.8481 - val_loss: 0.3326 - val_accuracy: 0.8813 - 300ms/epoch - 1ms/step\n",
      "Epoch 83/200\n",
      "225/225 - 0s - loss: 0.3630 - accuracy: 0.8478 - val_loss: 0.3343 - val_accuracy: 0.8737 - 298ms/epoch - 1ms/step\n",
      "Epoch 84/200\n",
      "225/225 - 0s - loss: 0.3606 - accuracy: 0.8493 - val_loss: 0.3338 - val_accuracy: 0.8775 - 298ms/epoch - 1ms/step\n",
      "Epoch 85/200\n",
      "225/225 - 0s - loss: 0.3583 - accuracy: 0.8492 - val_loss: 0.3335 - val_accuracy: 0.8775 - 314ms/epoch - 1ms/step\n",
      "Epoch 86/200\n",
      "225/225 - 0s - loss: 0.3549 - accuracy: 0.8526 - val_loss: 0.3323 - val_accuracy: 0.8788 - 298ms/epoch - 1ms/step\n",
      "Epoch 87/200\n",
      "225/225 - 0s - loss: 0.3599 - accuracy: 0.8506 - val_loss: 0.3329 - val_accuracy: 0.8737 - 314ms/epoch - 1ms/step\n",
      "Epoch 88/200\n",
      "225/225 - 0s - loss: 0.3621 - accuracy: 0.8469 - val_loss: 0.3327 - val_accuracy: 0.8800 - 314ms/epoch - 1ms/step\n",
      "Epoch 89/200\n",
      "225/225 - 0s - loss: 0.3641 - accuracy: 0.8478 - val_loss: 0.3345 - val_accuracy: 0.8750 - 296ms/epoch - 1ms/step\n",
      "Epoch 90/200\n",
      "225/225 - 0s - loss: 0.3612 - accuracy: 0.8508 - val_loss: 0.3326 - val_accuracy: 0.8813 - 313ms/epoch - 1ms/step\n",
      "Epoch 91/200\n",
      "225/225 - 0s - loss: 0.3581 - accuracy: 0.8532 - val_loss: 0.3321 - val_accuracy: 0.8788 - 298ms/epoch - 1ms/step\n",
      "Epoch 92/200\n",
      "225/225 - 0s - loss: 0.3590 - accuracy: 0.8475 - val_loss: 0.3321 - val_accuracy: 0.8788 - 314ms/epoch - 1ms/step\n",
      "Epoch 93/200\n",
      "225/225 - 0s - loss: 0.3626 - accuracy: 0.8475 - val_loss: 0.3324 - val_accuracy: 0.8788 - 312ms/epoch - 1ms/step\n",
      "Epoch 94/200\n",
      "225/225 - 0s - loss: 0.3619 - accuracy: 0.8482 - val_loss: 0.3333 - val_accuracy: 0.8788 - 295ms/epoch - 1ms/step\n",
      "Epoch 95/200\n",
      "225/225 - 0s - loss: 0.3573 - accuracy: 0.8503 - val_loss: 0.3314 - val_accuracy: 0.8788 - 304ms/epoch - 1ms/step\n",
      "Epoch 96/200\n",
      "225/225 - 0s - loss: 0.3593 - accuracy: 0.8524 - val_loss: 0.3313 - val_accuracy: 0.8800 - 303ms/epoch - 1ms/step\n",
      "Epoch 97/200\n",
      "225/225 - 0s - loss: 0.3597 - accuracy: 0.8522 - val_loss: 0.3319 - val_accuracy: 0.8800 - 292ms/epoch - 1ms/step\n",
      "Epoch 98/200\n",
      "225/225 - 0s - loss: 0.3577 - accuracy: 0.8508 - val_loss: 0.3320 - val_accuracy: 0.8775 - 313ms/epoch - 1ms/step\n",
      "Epoch 99/200\n",
      "225/225 - 0s - loss: 0.3592 - accuracy: 0.8489 - val_loss: 0.3310 - val_accuracy: 0.8788 - 299ms/epoch - 1ms/step\n",
      "Epoch 100/200\n",
      "225/225 - 0s - loss: 0.3548 - accuracy: 0.8511 - val_loss: 0.3303 - val_accuracy: 0.8775 - 303ms/epoch - 1ms/step\n",
      "Epoch 101/200\n",
      "225/225 - 0s - loss: 0.3617 - accuracy: 0.8494 - val_loss: 0.3300 - val_accuracy: 0.8813 - 305ms/epoch - 1ms/step\n",
      "Epoch 102/200\n",
      "225/225 - 0s - loss: 0.3577 - accuracy: 0.8510 - val_loss: 0.3307 - val_accuracy: 0.8813 - 301ms/epoch - 1ms/step\n",
      "Epoch 103/200\n",
      "225/225 - 0s - loss: 0.3572 - accuracy: 0.8503 - val_loss: 0.3322 - val_accuracy: 0.8813 - 298ms/epoch - 1ms/step\n",
      "Epoch 104/200\n",
      "225/225 - 0s - loss: 0.3581 - accuracy: 0.8504 - val_loss: 0.3315 - val_accuracy: 0.8825 - 314ms/epoch - 1ms/step\n",
      "Epoch 105/200\n",
      "225/225 - 0s - loss: 0.3614 - accuracy: 0.8476 - val_loss: 0.3325 - val_accuracy: 0.8800 - 298ms/epoch - 1ms/step\n",
      "Epoch 106/200\n",
      "225/225 - 0s - loss: 0.3589 - accuracy: 0.8497 - val_loss: 0.3313 - val_accuracy: 0.8813 - 314ms/epoch - 1ms/step\n",
      "Epoch 107/200\n",
      "225/225 - 0s - loss: 0.3622 - accuracy: 0.8504 - val_loss: 0.3316 - val_accuracy: 0.8800 - 299ms/epoch - 1ms/step\n",
      "Epoch 108/200\n",
      "225/225 - 0s - loss: 0.3614 - accuracy: 0.8465 - val_loss: 0.3312 - val_accuracy: 0.8800 - 298ms/epoch - 1ms/step\n",
      "Epoch 109/200\n",
      "225/225 - 0s - loss: 0.3605 - accuracy: 0.8479 - val_loss: 0.3315 - val_accuracy: 0.8813 - 298ms/epoch - 1ms/step\n",
      "Epoch 110/200\n",
      "225/225 - 0s - loss: 0.3576 - accuracy: 0.8519 - val_loss: 0.3317 - val_accuracy: 0.8800 - 298ms/epoch - 1ms/step\n",
      "Epoch 111/200\n",
      "225/225 - 0s - loss: 0.3578 - accuracy: 0.8494 - val_loss: 0.3323 - val_accuracy: 0.8813 - 314ms/epoch - 1ms/step\n",
      "Epoch 112/200\n",
      "225/225 - 0s - loss: 0.3596 - accuracy: 0.8482 - val_loss: 0.3325 - val_accuracy: 0.8788 - 298ms/epoch - 1ms/step\n",
      "Epoch 113/200\n",
      "225/225 - 0s - loss: 0.3600 - accuracy: 0.8496 - val_loss: 0.3328 - val_accuracy: 0.8813 - 314ms/epoch - 1ms/step\n",
      "Epoch 114/200\n",
      "225/225 - 0s - loss: 0.3576 - accuracy: 0.8528 - val_loss: 0.3320 - val_accuracy: 0.8800 - 298ms/epoch - 1ms/step\n",
      "Epoch 115/200\n",
      "225/225 - 0s - loss: 0.3575 - accuracy: 0.8515 - val_loss: 0.3304 - val_accuracy: 0.8763 - 313ms/epoch - 1ms/step\n",
      "Epoch 116/200\n",
      "225/225 - 0s - loss: 0.3568 - accuracy: 0.8506 - val_loss: 0.3319 - val_accuracy: 0.8788 - 298ms/epoch - 1ms/step\n",
      "Epoch 117/200\n",
      "225/225 - 0s - loss: 0.3660 - accuracy: 0.8481 - val_loss: 0.3339 - val_accuracy: 0.8788 - 298ms/epoch - 1ms/step\n",
      "Epoch 118/200\n",
      "225/225 - 0s - loss: 0.3576 - accuracy: 0.8550 - val_loss: 0.3326 - val_accuracy: 0.8813 - 318ms/epoch - 1ms/step\n",
      "Epoch 119/200\n",
      "225/225 - 0s - loss: 0.3594 - accuracy: 0.8485 - val_loss: 0.3331 - val_accuracy: 0.8800 - 301ms/epoch - 1ms/step\n",
      "Epoch 120/200\n",
      "225/225 - 0s - loss: 0.3590 - accuracy: 0.8517 - val_loss: 0.3323 - val_accuracy: 0.8813 - 316ms/epoch - 1ms/step\n",
      "Epoch 121/200\n",
      "225/225 - 0s - loss: 0.3595 - accuracy: 0.8508 - val_loss: 0.3314 - val_accuracy: 0.8813 - 306ms/epoch - 1ms/step\n",
      "Epoch 122/200\n",
      "225/225 - 0s - loss: 0.3561 - accuracy: 0.8540 - val_loss: 0.3310 - val_accuracy: 0.8800 - 297ms/epoch - 1ms/step\n",
      "Epoch 123/200\n",
      "225/225 - 0s - loss: 0.3599 - accuracy: 0.8503 - val_loss: 0.3299 - val_accuracy: 0.8813 - 341ms/epoch - 2ms/step\n",
      "Epoch 124/200\n",
      "225/225 - 0s - loss: 0.3641 - accuracy: 0.8478 - val_loss: 0.3320 - val_accuracy: 0.8788 - 309ms/epoch - 1ms/step\n",
      "Epoch 125/200\n",
      "225/225 - 0s - loss: 0.3614 - accuracy: 0.8478 - val_loss: 0.3331 - val_accuracy: 0.8775 - 338ms/epoch - 2ms/step\n",
      "Epoch 126/200\n",
      "225/225 - 0s - loss: 0.3574 - accuracy: 0.8506 - val_loss: 0.3322 - val_accuracy: 0.8788 - 328ms/epoch - 1ms/step\n",
      "Epoch 127/200\n",
      "225/225 - 0s - loss: 0.3575 - accuracy: 0.8525 - val_loss: 0.3321 - val_accuracy: 0.8775 - 456ms/epoch - 2ms/step\n",
      "Epoch 128/200\n",
      "225/225 - 1s - loss: 0.3578 - accuracy: 0.8524 - val_loss: 0.3311 - val_accuracy: 0.8825 - 570ms/epoch - 3ms/step\n",
      "Epoch 129/200\n",
      "225/225 - 1s - loss: 0.3596 - accuracy: 0.8517 - val_loss: 0.3319 - val_accuracy: 0.8800 - 615ms/epoch - 3ms/step\n",
      "Epoch 130/200\n",
      "225/225 - 0s - loss: 0.3598 - accuracy: 0.8499 - val_loss: 0.3321 - val_accuracy: 0.8788 - 492ms/epoch - 2ms/step\n",
      "Epoch 131/200\n",
      "225/225 - 0s - loss: 0.3569 - accuracy: 0.8511 - val_loss: 0.3310 - val_accuracy: 0.8813 - 332ms/epoch - 1ms/step\n",
      "Epoch 132/200\n",
      "225/225 - 1s - loss: 0.3625 - accuracy: 0.8511 - val_loss: 0.3325 - val_accuracy: 0.8813 - 569ms/epoch - 3ms/step\n",
      "Epoch 133/200\n",
      "225/225 - 0s - loss: 0.3583 - accuracy: 0.8501 - val_loss: 0.3323 - val_accuracy: 0.8775 - 318ms/epoch - 1ms/step\n",
      "Epoch 134/200\n",
      "225/225 - 1s - loss: 0.3575 - accuracy: 0.8514 - val_loss: 0.3319 - val_accuracy: 0.8788 - 529ms/epoch - 2ms/step\n",
      "Epoch 135/200\n",
      "225/225 - 1s - loss: 0.3581 - accuracy: 0.8500 - val_loss: 0.3312 - val_accuracy: 0.8775 - 542ms/epoch - 2ms/step\n",
      "Epoch 136/200\n",
      "225/225 - 1s - loss: 0.3545 - accuracy: 0.8546 - val_loss: 0.3307 - val_accuracy: 0.8775 - 548ms/epoch - 2ms/step\n",
      "Epoch 137/200\n",
      "225/225 - 0s - loss: 0.3596 - accuracy: 0.8492 - val_loss: 0.3314 - val_accuracy: 0.8788 - 486ms/epoch - 2ms/step\n",
      "Epoch 138/200\n",
      "225/225 - 0s - loss: 0.3568 - accuracy: 0.8493 - val_loss: 0.3317 - val_accuracy: 0.8750 - 324ms/epoch - 1ms/step\n",
      "Epoch 139/200\n",
      "225/225 - 0s - loss: 0.3584 - accuracy: 0.8479 - val_loss: 0.3318 - val_accuracy: 0.8775 - 495ms/epoch - 2ms/step\n",
      "Epoch 140/200\n",
      "225/225 - 1s - loss: 0.3605 - accuracy: 0.8469 - val_loss: 0.3321 - val_accuracy: 0.8763 - 562ms/epoch - 2ms/step\n",
      "Epoch 141/200\n",
      "225/225 - 1s - loss: 0.3605 - accuracy: 0.8515 - val_loss: 0.3312 - val_accuracy: 0.8788 - 548ms/epoch - 2ms/step\n",
      "Epoch 142/200\n",
      "225/225 - 0s - loss: 0.3610 - accuracy: 0.8487 - val_loss: 0.3322 - val_accuracy: 0.8737 - 369ms/epoch - 2ms/step\n",
      "Epoch 143/200\n",
      "225/225 - 0s - loss: 0.3621 - accuracy: 0.8490 - val_loss: 0.3311 - val_accuracy: 0.8775 - 312ms/epoch - 1ms/step\n",
      "Epoch 144/200\n",
      "225/225 - 0s - loss: 0.3621 - accuracy: 0.8510 - val_loss: 0.3315 - val_accuracy: 0.8750 - 336ms/epoch - 1ms/step\n",
      "Epoch 145/200\n",
      "225/225 - 0s - loss: 0.3572 - accuracy: 0.8519 - val_loss: 0.3318 - val_accuracy: 0.8750 - 320ms/epoch - 1ms/step\n",
      "Epoch 146/200\n",
      "225/225 - 0s - loss: 0.3605 - accuracy: 0.8497 - val_loss: 0.3316 - val_accuracy: 0.8750 - 308ms/epoch - 1ms/step\n",
      "Epoch 147/200\n",
      "225/225 - 0s - loss: 0.3586 - accuracy: 0.8521 - val_loss: 0.3307 - val_accuracy: 0.8813 - 332ms/epoch - 1ms/step\n",
      "Epoch 148/200\n",
      "225/225 - 0s - loss: 0.3604 - accuracy: 0.8500 - val_loss: 0.3314 - val_accuracy: 0.8775 - 411ms/epoch - 2ms/step\n",
      "Epoch 149/200\n",
      "225/225 - 1s - loss: 0.3540 - accuracy: 0.8533 - val_loss: 0.3306 - val_accuracy: 0.8813 - 527ms/epoch - 2ms/step\n",
      "Epoch 150/200\n",
      "225/225 - 0s - loss: 0.3618 - accuracy: 0.8494 - val_loss: 0.3315 - val_accuracy: 0.8763 - 330ms/epoch - 1ms/step\n",
      "Epoch 151/200\n",
      "225/225 - 0s - loss: 0.3569 - accuracy: 0.8518 - val_loss: 0.3312 - val_accuracy: 0.8800 - 304ms/epoch - 1ms/step\n",
      "Epoch 152/200\n",
      "225/225 - 0s - loss: 0.3616 - accuracy: 0.8503 - val_loss: 0.3323 - val_accuracy: 0.8800 - 314ms/epoch - 1ms/step\n",
      "Epoch 153/200\n",
      "225/225 - 0s - loss: 0.3581 - accuracy: 0.8479 - val_loss: 0.3312 - val_accuracy: 0.8788 - 314ms/epoch - 1ms/step\n",
      "Epoch 154/200\n",
      "225/225 - 0s - loss: 0.3557 - accuracy: 0.8537 - val_loss: 0.3308 - val_accuracy: 0.8813 - 298ms/epoch - 1ms/step\n",
      "Epoch 155/200\n",
      "225/225 - 0s - loss: 0.3551 - accuracy: 0.8532 - val_loss: 0.3312 - val_accuracy: 0.8788 - 314ms/epoch - 1ms/step\n",
      "Epoch 156/200\n",
      "225/225 - 0s - loss: 0.3537 - accuracy: 0.8508 - val_loss: 0.3309 - val_accuracy: 0.8788 - 314ms/epoch - 1ms/step\n",
      "Epoch 157/200\n",
      "225/225 - 1s - loss: 0.3564 - accuracy: 0.8533 - val_loss: 0.3306 - val_accuracy: 0.8788 - 549ms/epoch - 2ms/step\n",
      "Epoch 158/200\n",
      "225/225 - 0s - loss: 0.3569 - accuracy: 0.8529 - val_loss: 0.3312 - val_accuracy: 0.8788 - 373ms/epoch - 2ms/step\n",
      "Epoch 159/200\n",
      "225/225 - 0s - loss: 0.3599 - accuracy: 0.8515 - val_loss: 0.3315 - val_accuracy: 0.8825 - 299ms/epoch - 1ms/step\n",
      "Epoch 160/200\n",
      "225/225 - 0s - loss: 0.3601 - accuracy: 0.8493 - val_loss: 0.3325 - val_accuracy: 0.8775 - 298ms/epoch - 1ms/step\n",
      "Epoch 161/200\n",
      "225/225 - 0s - loss: 0.3617 - accuracy: 0.8489 - val_loss: 0.3331 - val_accuracy: 0.8763 - 298ms/epoch - 1ms/step\n",
      "Epoch 162/200\n",
      "225/225 - 0s - loss: 0.3572 - accuracy: 0.8512 - val_loss: 0.3316 - val_accuracy: 0.8800 - 314ms/epoch - 1ms/step\n",
      "Epoch 163/200\n",
      "225/225 - 0s - loss: 0.3566 - accuracy: 0.8525 - val_loss: 0.3318 - val_accuracy: 0.8800 - 298ms/epoch - 1ms/step\n",
      "Epoch 164/200\n",
      "225/225 - 0s - loss: 0.3607 - accuracy: 0.8496 - val_loss: 0.3326 - val_accuracy: 0.8763 - 314ms/epoch - 1ms/step\n",
      "Epoch 165/200\n",
      "225/225 - 0s - loss: 0.3590 - accuracy: 0.8506 - val_loss: 0.3307 - val_accuracy: 0.8788 - 298ms/epoch - 1ms/step\n",
      "Epoch 166/200\n",
      "225/225 - 0s - loss: 0.3582 - accuracy: 0.8521 - val_loss: 0.3314 - val_accuracy: 0.8788 - 314ms/epoch - 1ms/step\n",
      "Epoch 167/200\n",
      "225/225 - 0s - loss: 0.3541 - accuracy: 0.8539 - val_loss: 0.3310 - val_accuracy: 0.8800 - 378ms/epoch - 2ms/step\n",
      "Epoch 168/200\n",
      "225/225 - 1s - loss: 0.3564 - accuracy: 0.8519 - val_loss: 0.3306 - val_accuracy: 0.8800 - 570ms/epoch - 3ms/step\n",
      "Epoch 169/200\n",
      "225/225 - 0s - loss: 0.3559 - accuracy: 0.8539 - val_loss: 0.3314 - val_accuracy: 0.8788 - 442ms/epoch - 2ms/step\n",
      "Epoch 170/200\n",
      "225/225 - 0s - loss: 0.3571 - accuracy: 0.8524 - val_loss: 0.3316 - val_accuracy: 0.8813 - 314ms/epoch - 1ms/step\n",
      "Epoch 171/200\n",
      "225/225 - 0s - loss: 0.3580 - accuracy: 0.8507 - val_loss: 0.3317 - val_accuracy: 0.8825 - 298ms/epoch - 1ms/step\n",
      "Epoch 172/200\n",
      "225/225 - 0s - loss: 0.3587 - accuracy: 0.8511 - val_loss: 0.3311 - val_accuracy: 0.8813 - 317ms/epoch - 1ms/step\n",
      "Epoch 173/200\n",
      "225/225 - 0s - loss: 0.3611 - accuracy: 0.8508 - val_loss: 0.3310 - val_accuracy: 0.8813 - 366ms/epoch - 2ms/step\n",
      "Epoch 174/200\n",
      "225/225 - 0s - loss: 0.3606 - accuracy: 0.8486 - val_loss: 0.3326 - val_accuracy: 0.8750 - 477ms/epoch - 2ms/step\n",
      "Epoch 175/200\n",
      "225/225 - 0s - loss: 0.3597 - accuracy: 0.8454 - val_loss: 0.3324 - val_accuracy: 0.8775 - 307ms/epoch - 1ms/step\n",
      "Epoch 176/200\n",
      "225/225 - 0s - loss: 0.3576 - accuracy: 0.8501 - val_loss: 0.3317 - val_accuracy: 0.8750 - 309ms/epoch - 1ms/step\n",
      "Epoch 177/200\n",
      "225/225 - 0s - loss: 0.3587 - accuracy: 0.8512 - val_loss: 0.3318 - val_accuracy: 0.8750 - 363ms/epoch - 2ms/step\n",
      "Epoch 178/200\n",
      "225/225 - 0s - loss: 0.3599 - accuracy: 0.8499 - val_loss: 0.3307 - val_accuracy: 0.8788 - 311ms/epoch - 1ms/step\n",
      "Epoch 179/200\n",
      "225/225 - 0s - loss: 0.3564 - accuracy: 0.8542 - val_loss: 0.3317 - val_accuracy: 0.8788 - 342ms/epoch - 2ms/step\n",
      "Epoch 180/200\n",
      "225/225 - 0s - loss: 0.3576 - accuracy: 0.8469 - val_loss: 0.3327 - val_accuracy: 0.8750 - 348ms/epoch - 2ms/step\n",
      "Epoch 181/200\n",
      "225/225 - 0s - loss: 0.3593 - accuracy: 0.8483 - val_loss: 0.3310 - val_accuracy: 0.8800 - 424ms/epoch - 2ms/step\n",
      "Epoch 182/200\n",
      "225/225 - 0s - loss: 0.3540 - accuracy: 0.8533 - val_loss: 0.3314 - val_accuracy: 0.8775 - 484ms/epoch - 2ms/step\n",
      "Epoch 183/200\n",
      "225/225 - 0s - loss: 0.3601 - accuracy: 0.8508 - val_loss: 0.3333 - val_accuracy: 0.8750 - 319ms/epoch - 1ms/step\n",
      "Epoch 184/200\n",
      "225/225 - 1s - loss: 0.3567 - accuracy: 0.8493 - val_loss: 0.3326 - val_accuracy: 0.8788 - 597ms/epoch - 3ms/step\n",
      "Epoch 185/200\n",
      "225/225 - 0s - loss: 0.3558 - accuracy: 0.8496 - val_loss: 0.3320 - val_accuracy: 0.8775 - 329ms/epoch - 1ms/step\n",
      "Epoch 186/200\n",
      "225/225 - 0s - loss: 0.3590 - accuracy: 0.8526 - val_loss: 0.3317 - val_accuracy: 0.8800 - 319ms/epoch - 1ms/step\n",
      "Epoch 187/200\n",
      "225/225 - 0s - loss: 0.3572 - accuracy: 0.8536 - val_loss: 0.3313 - val_accuracy: 0.8788 - 341ms/epoch - 2ms/step\n",
      "Epoch 188/200\n",
      "225/225 - 0s - loss: 0.3577 - accuracy: 0.8482 - val_loss: 0.3330 - val_accuracy: 0.8763 - 321ms/epoch - 1ms/step\n",
      "Epoch 189/200\n",
      "225/225 - 0s - loss: 0.3576 - accuracy: 0.8521 - val_loss: 0.3325 - val_accuracy: 0.8788 - 312ms/epoch - 1ms/step\n",
      "Epoch 190/200\n",
      "225/225 - 0s - loss: 0.3559 - accuracy: 0.8517 - val_loss: 0.3322 - val_accuracy: 0.8788 - 314ms/epoch - 1ms/step\n",
      "Epoch 191/200\n",
      "225/225 - 0s - loss: 0.3553 - accuracy: 0.8506 - val_loss: 0.3331 - val_accuracy: 0.8725 - 320ms/epoch - 1ms/step\n",
      "Epoch 192/200\n",
      "225/225 - 0s - loss: 0.3606 - accuracy: 0.8499 - val_loss: 0.3328 - val_accuracy: 0.8775 - 302ms/epoch - 1ms/step\n",
      "Epoch 193/200\n",
      "225/225 - 0s - loss: 0.3607 - accuracy: 0.8469 - val_loss: 0.3332 - val_accuracy: 0.8737 - 332ms/epoch - 1ms/step\n",
      "Epoch 194/200\n",
      "225/225 - 0s - loss: 0.3575 - accuracy: 0.8521 - val_loss: 0.3324 - val_accuracy: 0.8763 - 335ms/epoch - 1ms/step\n",
      "Epoch 195/200\n",
      "225/225 - 0s - loss: 0.3613 - accuracy: 0.8506 - val_loss: 0.3319 - val_accuracy: 0.8775 - 308ms/epoch - 1ms/step\n",
      "Epoch 196/200\n",
      "225/225 - 0s - loss: 0.3604 - accuracy: 0.8508 - val_loss: 0.3317 - val_accuracy: 0.8775 - 308ms/epoch - 1ms/step\n",
      "Epoch 197/200\n",
      "225/225 - 0s - loss: 0.3577 - accuracy: 0.8521 - val_loss: 0.3323 - val_accuracy: 0.8737 - 312ms/epoch - 1ms/step\n",
      "Epoch 198/200\n",
      "225/225 - 0s - loss: 0.3582 - accuracy: 0.8526 - val_loss: 0.3307 - val_accuracy: 0.8788 - 307ms/epoch - 1ms/step\n",
      "Epoch 199/200\n",
      "225/225 - 0s - loss: 0.3548 - accuracy: 0.8528 - val_loss: 0.3308 - val_accuracy: 0.8763 - 311ms/epoch - 1ms/step\n",
      "Epoch 200/200\n",
      "225/225 - 0s - loss: 0.3590 - accuracy: 0.8510 - val_loss: 0.3325 - val_accuracy: 0.8725 - 314ms/epoch - 1ms/step\n"
     ]
    }
   ],
   "source": [
    "#Fitting the Neural Network\n",
    "history = classifier.fit(X_train, y_train, batch_size = 32, epochs = 200, validation_split = 0.1, verbose = 2)"
   ]
  },
  {
   "cell_type": "code",
   "execution_count": 18,
   "metadata": {
    "colab": {
     "base_uri": "https://localhost:8080/"
    },
    "id": "aq1-eNM2YqL8",
    "outputId": "0fd0fa0a-cf54-4637-f8b6-f15342002a15"
   },
   "outputs": [
    {
     "name": "stdout",
     "output_type": "stream",
     "text": [
      "63/63 [==============================] - 0s 1ms/step\n",
      "[[0.23273839]\n",
      " [0.37309018]\n",
      " [0.19490324]\n",
      " [0.06331518]\n",
      " [0.0864969 ]]\n"
     ]
    }
   ],
   "source": [
    "y_pred = classifier.predict(X_test)\n",
    "print(y_pred[:5])"
   ]
  },
  {
   "cell_type": "code",
   "execution_count": 19,
   "metadata": {
    "colab": {
     "base_uri": "https://localhost:8080/"
    },
    "id": "S8JJz5bLY-7I",
    "outputId": "00827497-0dfb-49c4-d70b-2071d70ae5f0"
   },
   "outputs": [
    {
     "name": "stdout",
     "output_type": "stream",
     "text": [
      "[[0]\n",
      " [0]\n",
      " [0]\n",
      " [0]\n",
      " [0]]\n"
     ]
    }
   ],
   "source": [
    "#Let us use confusion matrix with cutoff value as 0.5\n",
    "y_pred = (y_pred > 0.5).astype(int)\n",
    "print(y_pred[:5])"
   ]
  },
  {
   "cell_type": "code",
   "execution_count": 24,
   "metadata": {},
   "outputs": [
    {
     "name": "stdout",
     "output_type": "stream",
     "text": [
      "              precision    recall  f1-score   support\n",
      "\n",
      "           0       0.88      0.96      0.92      1595\n",
      "           1       0.77      0.46      0.58       405\n",
      "\n",
      "    accuracy                           0.86      2000\n",
      "   macro avg       0.82      0.71      0.75      2000\n",
      "weighted avg       0.85      0.86      0.85      2000\n",
      "\n",
      "Accuracy Score:0.8625\n",
      "confusion Matrix:[[1538   57]\n",
      " [ 218  187]]\n"
     ]
    }
   ],
   "source": [
    "#calculating Results\n",
    "from sklearn.metrics import accuracy_score,confusion_matrix,classification_report\n",
    "\n",
    "acc=accuracy_score(y_test,y_pred)\n",
    "mat=confusion_matrix(y_test,y_pred)\n",
    "pre=classification_report(y_test,y_pred)\n",
    "\n",
    "\n",
    "print(pre)\n",
    "print(f\"Accuracy Score:{acc}\")"
   ]
  },
  {
   "cell_type": "code",
   "execution_count": 20,
   "metadata": {
    "colab": {
     "base_uri": "https://localhost:8080/"
    },
    "id": "Bcyv6h2UZPbO",
    "outputId": "6ca6b222-2516-4b03-c081-1ba7feaa6817"
   },
   "outputs": [
    {
     "name": "stdout",
     "output_type": "stream",
     "text": [
      "[[1538   57]\n",
      " [ 218  187]]\n"
     ]
    }
   ],
   "source": [
    "#Making the Matrix\n",
    "from sklearn.metrics import confusion_matrix\n",
    "cm = confusion_matrix(y_test, y_pred)\n",
    "print(cm)"
   ]
  },
  {
   "cell_type": "code",
   "execution_count": 21,
   "metadata": {
    "colab": {
     "base_uri": "https://localhost:8080/"
    },
    "id": "l3weViSLZc1v",
    "outputId": "64895b62-30f8-4e86-e592-d3fae20b2673"
   },
   "outputs": [
    {
     "name": "stdout",
     "output_type": "stream",
     "text": [
      "86.25 % of data was classified correctly\n"
     ]
    }
   ],
   "source": [
    "#Accuracy of our NN\n",
    "print(((cm[0][0] + cm[1][1])* 100) / len(y_test), '% of data was classified correctly')"
   ]
  },
  {
   "cell_type": "code",
   "execution_count": null,
   "metadata": {},
   "outputs": [],
   "source": []
  }
 ],
 "metadata": {
  "colab": {
   "provenance": []
  },
  "interpreter": {
   "hash": "f82e9eef39fec3b4432bd3d531b07136b7f172564442eec42315ae171445fe6f"
  },
  "kernelspec": {
   "display_name": "Python 3 (ipykernel)",
   "language": "python",
   "name": "python3"
  },
  "language_info": {
   "codemirror_mode": {
    "name": "ipython",
    "version": 3
   },
   "file_extension": ".py",
   "mimetype": "text/x-python",
   "name": "python",
   "nbconvert_exporter": "python",
   "pygments_lexer": "ipython3",
   "version": "3.11.3"
  }
 },
 "nbformat": 4,
 "nbformat_minor": 1
}
